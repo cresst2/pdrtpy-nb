{
 "cells": [
  {
   "cell_type": "markdown",
   "metadata": {},
   "source": [
    "### *PhotoDissociation Region Toolbox Notebooks*\n",
    "-------------------------------------------------------------\n",
    "\n",
    "# Example 4: Exploring Models\n",
    "\n",
    "This example shows use the PDRT Toolbox to look at individual models of ratio or intensity and optionally plot your observations on top. The main class for this is ModelPlot.\n"
   ]
  },
  {
   "cell_type": "code",
   "execution_count": null,
   "metadata": {},
   "outputs": [],
   "source": [
    "from pdrtpy.modelset import ModelSet\n",
    "from pdrtpy.plot.modelplot import ModelPlot\n",
    "from pdrtpy.measurement import Measurement\n",
    "from astropy.nddata import StdDevUncertainty\n",
    "import astropy.units as u"
   ]
  },
  {
   "cell_type": "code",
   "execution_count": null,
   "metadata": {},
   "outputs": [],
   "source": [
    "from pdrtpy import version\n",
    "if version()!='2.0.7-i':\n",
    "    raise Exception(\"This notebook is for testing version pdrtpy 2.0.7-i. It will not work yet with other versions.\")"
   ]
  },
  {
   "cell_type": "markdown",
   "metadata": {},
   "source": [
    "### First, load up a set of models. Here we use the Wolfire/Kaufman 2006 models."
   ]
  },
  {
   "cell_type": "code",
   "execution_count": null,
   "metadata": {},
   "outputs": [],
   "source": [
    "m = ModelSet(name=\"wk2006\",z=1)\n",
    "# Display all the available ratio and intensity model files.\n",
    "m.table.show_in_notebook()"
   ]
  },
  {
   "cell_type": "markdown",
   "metadata": {},
   "source": [
    "### Instantiate a ModelPlot class using the ModelSet you just created."
   ]
  },
  {
   "cell_type": "code",
   "execution_count": null,
   "metadata": {},
   "outputs": [],
   "source": [
    "mp = ModelPlot(m)"
   ]
  },
  {
   "cell_type": "code",
   "execution_count": null,
   "metadata": {},
   "outputs": [],
   "source": [
    "### Plot a particular model. You identify the model you want using the 'ratio' label in the table above.\n",
    "mp.plot(\"CI_609\",legend=False,contours=True,label=True)"
   ]
  },
  {
   "cell_type": "code",
   "execution_count": null,
   "metadata": {},
   "outputs": [],
   "source": [
    "### Plot another one.  Add a few keywords for fancification.\n",
    "mp.plot(\"H200S2/H200S1\",legend=True,cmap='rainbow',norm='log',contours=False)"
   ]
  },
  {
   "cell_type": "markdown",
   "metadata": {},
   "source": [
    "### Get all the models that match CO(2-1), CO(4-3), and CI 609 micron and plot them. \n",
    "The model_type 'both' means get both ratios and intensities.  You could also ask for just 'ratio' or 'intensity'"
   ]
  },
  {
   "cell_type": "code",
   "execution_count": null,
   "metadata": {},
   "outputs": [],
   "source": [
    "z=m.get_models([\"CI_609\",\"CO_21\",\"CO_43\"],model_type=\"both\")\n",
    "print(\"Found models: \",z.keys())\n",
    "for j in z:\n",
    "    mp.plot(j,label=True,norm='zscale')"
   ]
  },
  {
   "cell_type": "markdown",
   "metadata": {},
   "source": [
    "### What if you want to plot observations on the models?\n",
    "First create some Measurements to represent your observations."
   ]
  },
  {
   "cell_type": "code",
   "execution_count": null,
   "metadata": {},
   "outputs": [],
   "source": [
    "myunit = \"erg s-1 cm-2 sr-1\"\n",
    "mx=Measurement(data=[1.5E-6],uncertainty = StdDevUncertainty(0.5E-6),identifier=\"CI_609\",unit=myunit)\n",
    "my=Measurement(data=[2],uncertainty = StdDevUncertainty(1),identifier=\"CII_158/CI_609\",unit=myunit)\n",
    "mz=Measurement(data=[3E-6],uncertainty = StdDevUncertainty(0.5E-6),identifier=\"CII_158\",unit=myunit)\n",
    "mq=Measurement(data=[2.3],uncertainty=StdDevUncertainty(0.5),identifier='CO_43/CO_21')\n",
    "a = [mx,my,mz,mq]"
   ]
  },
  {
   "cell_type": "markdown",
   "metadata": {},
   "source": [
    "### The *overlay* method will plot one or more Measurements in the density-radiation field space.  \n",
    "The errors are indicated with shading. Note you can pass it both ratios and intensities for the Measurements"
   ]
  },
  {
   "cell_type": "code",
   "execution_count": null,
   "metadata": {},
   "outputs": [],
   "source": [
    "mp.overlay(measurements=a,yaxis_unit=\"erg s-1 cm-2\")"
   ]
  },
  {
   "cell_type": "markdown",
   "metadata": {},
   "source": [
    "### You can overlay a observation on a model.\n",
    "Simply pass a Measurement into the *plot* method."
   ]
  },
  {
   "cell_type": "code",
   "execution_count": null,
   "metadata": {},
   "outputs": [],
   "source": [
    "mp.plot(\"CII_158/CI_609\",image=False,measurements=[my],legend=True,label=True)"
   ]
  },
  {
   "cell_type": "markdown",
   "metadata": {},
   "source": [
    "### Don't like the default colors?  Use your own!"
   ]
  },
  {
   "cell_type": "code",
   "execution_count": null,
   "metadata": {},
   "outputs": [],
   "source": [
    "mp.plot(\"CII_158/CI_609\",image=False,measurements=[my],legend=True,label=True,meas_color='red',shading=0.3)"
   ]
  },
  {
   "cell_type": "markdown",
   "metadata": {},
   "source": [
    "### Here is an example plotting only intensities.\n",
    "The code is smart enough to convert $K~km~s^{-1}$ to intensity units (as long as the Measurement has a RESTFREQ in the FITS header or given during creation) and change the legend label as appropriate."
   ]
  },
  {
   "cell_type": "code",
   "execution_count": null,
   "metadata": {},
   "outputs": [],
   "source": [
    "ma=Measurement(data=[0.75],uncertainty = StdDevUncertainty(0.3),identifier=\"CO_65\",unit=\"K km s-1\",restfreq=692*u.GHz)\n",
    "mb=Measurement(data=[1E-6],uncertainty = StdDevUncertainty(0.25E-6),identifier=\"H200S3\",unit=myunit)\n",
    "mc=Measurement(data=[2E-6],uncertainty = StdDevUncertainty(0.5E-6),identifier=\"H200S2\",unit=myunit)\n",
    "md=Measurement(data=[1.25E-4],uncertainty = StdDevUncertainty(0.5E-4),identifier=\"OI_145\",unit=myunit)\n",
    "a = [ma,mb,mc,md]\n",
    "mp.overlay(measurements=a,shading=0.5)"
   ]
  },
  {
   "cell_type": "markdown",
   "metadata": {},
   "source": [
    "### Finally, plot them using Draine units on the Y-axis and with dashed lines indicating errors rather than shading."
   ]
  },
  {
   "cell_type": "code",
   "execution_count": null,
   "metadata": {},
   "outputs": [],
   "source": [
    "mp.overlay(measurements=a,yaxis_unit='Draine',shading=0)"
   ]
  }
 ],
 "metadata": {
  "kernelspec": {
   "display_name": "Python 3",
   "language": "python",
   "name": "python3"
  },
  "language_info": {
   "codemirror_mode": {
    "name": "ipython",
    "version": 3
   },
   "file_extension": ".py",
   "mimetype": "text/x-python",
   "name": "python",
   "nbconvert_exporter": "python",
   "pygments_lexer": "ipython3",
   "version": "3.7.4"
  }
 },
 "nbformat": 4,
 "nbformat_minor": 4
}
