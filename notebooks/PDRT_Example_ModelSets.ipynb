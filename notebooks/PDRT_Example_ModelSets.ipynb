{
 "cells": [
  {
   "cell_type": "markdown",
   "metadata": {},
   "source": [
    "## *PhotoDissociation Region Toolbox Notebooks*\n",
    "---------------------------------------------------------------\n",
    "\n",
    "# Example 2: Introduction to ModelSets\n",
    "\n",
    "PDRT supports a variety of PDR models to be used to fit your data.  The current default are the Wolfire/Kaufman 2006 constant density models for metallicities z=1. There are also a WK2006 z=3 and z=0.1 sets and a new 2020 z=1 model set, all with limited spectral lines. Models are stored as ratios of intensities as a function of radiation field $G_0$ and hydrogen nucleus volume density $n$. We are expanding the 2020 model set now to include a  wider range of lines and metallicities.  Any PDR models\n",
    "can be used if they are stored in the [correct FITS format](https://docs.google.com/document/d/1hPSUip5RK6nPmqrL8iw3qkX69DVLBv0sAuqac18pLT8/edit?usp=sharing).  We are currently working with Marcus Rollig to import the KosmaTau models.\n",
    " "
   ]
  },
  {
   "cell_type": "code",
   "execution_count": 1,
   "metadata": {},
   "outputs": [
    {
     "name": "stderr",
     "output_type": "stream",
     "text": [
      "/home/mpound/anaconda3/lib/python3.7/site-packages/astropy/table/column.py:1020: FutureWarning: elementwise comparison failed; returning scalar instead, but in the future will perform elementwise comparison\n",
      "  result = getattr(super(), op)(other)\n"
     ]
    }
   ],
   "source": [
    "from pdrtpy.modelset import ModelSet"
   ]
  },
  {
   "cell_type": "code",
   "execution_count": 2,
   "metadata": {},
   "outputs": [
    {
     "data": {
      "text/plain": [
       "'2.0.7-rc1'"
      ]
     },
     "execution_count": 2,
     "metadata": {},
     "output_type": "execute_result"
    }
   ],
   "source": [
    "# check the version\n",
    "from pdrtpy import version\n",
    "version()"
   ]
  },
  {
   "cell_type": "markdown",
   "metadata": {},
   "source": [
    "### list() describes all the ModelSets available. \n",
    "(Note `kosmatau` is a placeholder for now to demostrate that external models can be imported.)"
   ]
  },
  {
   "cell_type": "code",
   "execution_count": 3,
   "metadata": {
    "scrolled": true
   },
   "outputs": [
    {
     "name": "stdout",
     "output_type": "stream",
     "text": [
      "  name   version  z                                       description                                      \n",
      "-------- ------- --- --------------------------------------------------------------------------------------\n",
      "wk2006   2006    1.0 Wolfire/Kaufman 2006 constant density models                                          \n",
      "wk2006   2006    3.0 Wolfire/Kaufman 2006 constant density models                                          \n",
      "wk2020   2020    1.0 Wolfire/Kaufman 2020 constant density models, small set, Av=7, no freeze-out          \n",
      "smc      2006    0.1 Wolfire/Kaufman 2006 limited set of constant density models for Small Magellanic Cloud\n",
      "kosmatau X       1.0 Test set KOSMA Tau models, Z=1                                                        \n"
     ]
    }
   ],
   "source": [
    "ModelSet.list()"
   ]
  },
  {
   "cell_type": "markdown",
   "metadata": {},
   "source": [
    "### Instantiate the 2020 Wolfire/Kaufman models for z=1. "
   ]
  },
  {
   "cell_type": "code",
   "execution_count": 4,
   "metadata": {},
   "outputs": [],
   "source": [
    "m = ModelSet(\"wk2020\",z=1)"
   ]
  },
  {
   "cell_type": "markdown",
   "metadata": {},
   "source": [
    "### Show the model spectral lines and ratios that are available in this ModelSet\n",
    "`supported_lines` and `supported_ratios` is an astropy Table, invoke *show_in_notebook()* to see all the rows.  There may be more ratios than lines because not all components of a ratio may be available as separate models."
   ]
  },
  {
   "cell_type": "code",
   "execution_count": 5,
   "metadata": {},
   "outputs": [
    {
     "data": {
      "text/html": [
       "<i>Table length=5</i>\n",
       "<table id=\"table140571228295504-688682\" class=\"table-striped table-bordered table-condensed\">\n",
       "<thead><tr><th>idx</th><th>title</th><th>intensity label</th></tr></thead>\n",
       "<thead><tr><th></th><th>null</th><th></th></tr></thead>\n",
       "<tr><td>0</td><td>[C I] 609 $\\mu$m</td><td>CI_609</td></tr>\n",
       "<tr><td>1</td><td>[O I] 63 $\\mu$m</td><td>OI_63</td></tr>\n",
       "<tr><td>2</td><td>CO(J=1-0)</td><td>CO_10</td></tr>\n",
       "<tr><td>3</td><td>CO(J=2-1)</td><td>CO_21</td></tr>\n",
       "<tr><td>4</td><td>CO(J=7-6)</td><td>CO_76</td></tr>\n",
       "</table><style>table.dataTable {clear: both; width: auto !important; margin: 0 !important;}\n",
       ".dataTables_info, .dataTables_length, .dataTables_filter, .dataTables_paginate{\n",
       "display: inline-block; margin-right: 1em; }\n",
       ".paginate_button { margin-right: 5px; }\n",
       "</style>\n",
       "<script>\n",
       "\n",
       "var astropy_sort_num = function(a, b) {\n",
       "    var a_num = parseFloat(a);\n",
       "    var b_num = parseFloat(b);\n",
       "\n",
       "    if (isNaN(a_num) && isNaN(b_num))\n",
       "        return ((a < b) ? -1 : ((a > b) ? 1 : 0));\n",
       "    else if (!isNaN(a_num) && !isNaN(b_num))\n",
       "        return ((a_num < b_num) ? -1 : ((a_num > b_num) ? 1 : 0));\n",
       "    else\n",
       "        return isNaN(a_num) ? -1 : 1;\n",
       "}\n",
       "\n",
       "require.config({paths: {\n",
       "    datatables: 'https://cdn.datatables.net/1.10.12/js/jquery.dataTables.min'\n",
       "}});\n",
       "require([\"datatables\"], function(){\n",
       "    console.log(\"$('#table140571228295504-688682').dataTable()\");\n",
       "    \n",
       "jQuery.extend( jQuery.fn.dataTableExt.oSort, {\n",
       "    \"optionalnum-asc\": astropy_sort_num,\n",
       "    \"optionalnum-desc\": function (a,b) { return -astropy_sort_num(a, b); }\n",
       "});\n",
       "\n",
       "    $('#table140571228295504-688682').dataTable({\n",
       "        order: [],\n",
       "        pageLength: 50,\n",
       "        lengthMenu: [[10, 25, 50, 100, 500, 1000, -1], [10, 25, 50, 100, 500, 1000, 'All']],\n",
       "        pagingType: \"full_numbers\",\n",
       "        columnDefs: [{targets: [0], type: \"optionalnum\"}]\n",
       "    });\n",
       "});\n",
       "</script>\n"
      ],
      "text/plain": [
       "<IPython.core.display.HTML object>"
      ]
     },
     "execution_count": 5,
     "metadata": {},
     "output_type": "execute_result"
    }
   ],
   "source": [
    "m.supported_lines.show_in_notebook()"
   ]
  },
  {
   "cell_type": "code",
   "execution_count": 6,
   "metadata": {},
   "outputs": [
    {
     "data": {
      "text/html": [
       "<i>Table length=17</i>\n",
       "<table id=\"table140571228295824-483753\" class=\"table-striped table-bordered table-condensed\">\n",
       "<thead><tr><th>idx</th><th>title</th><th>denominator</th><th>ratio label</th></tr></thead>\n",
       "<tr><td>0</td><td>[O I] 63 $\\mu$m / [C II] 158 $\\mu$m</td><td>CII_158</td><td>OI_63/CII_158</td></tr>\n",
       "<tr><td>1</td><td>([O I] 63 $\\mu$m + [C II] 158 $\\mu$m) / I$_{FIR}$</td><td>FIR</td><td>OI_63+CII_158/FIR</td></tr>\n",
       "<tr><td>2</td><td>([O I] 145 $\\mu$m + [C II] 158 $\\mu$m) / I$_{FIR}$</td><td>FIR</td><td>OI_145+CII_158/FIR</td></tr>\n",
       "<tr><td>3</td><td>[C I] 370 $\\mu$m / [C I] 609 $\\mu$m</td><td>CI_609</td><td>CI_370/CI_609</td></tr>\n",
       "<tr><td>4</td><td>[C II] 158 $\\mu$m / [C I] 609 $\\mu$m</td><td>CI_609</td><td>CII_158/CI_609</td></tr>\n",
       "<tr><td>5</td><td>[C II] 158 $\\mu$m / CO(J=1-0)</td><td>CO_10</td><td>CII_158/CO_10</td></tr>\n",
       "<tr><td>6</td><td>CO(J=2-1) / CO(J=1-0)</td><td>CO_10</td><td>CO_21/CO_10</td></tr>\n",
       "<tr><td>7</td><td>CO(J=3-2) / CO(J=1-0)</td><td>CO_10</td><td>CO_32/CO_10</td></tr>\n",
       "<tr><td>8</td><td>CO(J=6-5) / CO(J=1-0)</td><td>CO_10</td><td>CO_65/CO_10</td></tr>\n",
       "<tr><td>9</td><td>[O I] 145 $\\mu$m / [O I] 63 $\\mu$m</td><td>OI_63</td><td>OI_145/OI_63</td></tr>\n",
       "<tr><td>10</td><td>[O I] 145 $\\mu$m / [C II] 158 $\\mu$m</td><td>CII_158</td><td>OI_145/CII_158</td></tr>\n",
       "<tr><td>11</td><td>[C I] 609 $\\mu$m / CO(J=4-3)</td><td>CO_43</td><td>CI_609/CO_43</td></tr>\n",
       "<tr><td>12</td><td>CO(J=4-3) / CO(J=2-1)</td><td>CO_21</td><td>CO_43/CO_21</td></tr>\n",
       "<tr><td>13</td><td>CO(J=6-5) / CO(J=2-1)</td><td>CO_21</td><td>CO_65/CO_21</td></tr>\n",
       "<tr><td>14</td><td>CO(J=7-6) / CO(J=1-0)</td><td>CO_10</td><td>CO_76/CO_10</td></tr>\n",
       "<tr><td>15</td><td>CO(J=7-6) / CO(J=2-1)</td><td>CO_21</td><td>CO_76/CO_21</td></tr>\n",
       "<tr><td>16</td><td>CO(J=7-6) / CO(J=4-3)</td><td>CO_43</td><td>CO_76/CO_43</td></tr>\n",
       "</table><style>table.dataTable {clear: both; width: auto !important; margin: 0 !important;}\n",
       ".dataTables_info, .dataTables_length, .dataTables_filter, .dataTables_paginate{\n",
       "display: inline-block; margin-right: 1em; }\n",
       ".paginate_button { margin-right: 5px; }\n",
       "</style>\n",
       "<script>\n",
       "\n",
       "var astropy_sort_num = function(a, b) {\n",
       "    var a_num = parseFloat(a);\n",
       "    var b_num = parseFloat(b);\n",
       "\n",
       "    if (isNaN(a_num) && isNaN(b_num))\n",
       "        return ((a < b) ? -1 : ((a > b) ? 1 : 0));\n",
       "    else if (!isNaN(a_num) && !isNaN(b_num))\n",
       "        return ((a_num < b_num) ? -1 : ((a_num > b_num) ? 1 : 0));\n",
       "    else\n",
       "        return isNaN(a_num) ? -1 : 1;\n",
       "}\n",
       "\n",
       "require.config({paths: {\n",
       "    datatables: 'https://cdn.datatables.net/1.10.12/js/jquery.dataTables.min'\n",
       "}});\n",
       "require([\"datatables\"], function(){\n",
       "    console.log(\"$('#table140571228295824-483753').dataTable()\");\n",
       "    \n",
       "jQuery.extend( jQuery.fn.dataTableExt.oSort, {\n",
       "    \"optionalnum-asc\": astropy_sort_num,\n",
       "    \"optionalnum-desc\": function (a,b) { return -astropy_sort_num(a, b); }\n",
       "});\n",
       "\n",
       "    $('#table140571228295824-483753').dataTable({\n",
       "        order: [],\n",
       "        pageLength: 50,\n",
       "        lengthMenu: [[10, 25, 50, 100, 500, 1000, -1], [10, 25, 50, 100, 500, 1000, 'All']],\n",
       "        pagingType: \"full_numbers\",\n",
       "        columnDefs: [{targets: [0], type: \"optionalnum\"}]\n",
       "    });\n",
       "});\n",
       "</script>\n"
      ],
      "text/plain": [
       "<IPython.core.display.HTML object>"
      ]
     },
     "execution_count": 6,
     "metadata": {},
     "output_type": "execute_result"
    }
   ],
   "source": [
    "m.supported_ratios.show_in_notebook()"
   ]
  },
  {
   "cell_type": "markdown",
   "metadata": {},
   "source": [
    "Get the Wolfire/Kaufman 2006 models.  Every model has a one-line description. You can query a ModelSet to find which spectral lines (your observations) are supported and which model ratios it has for your lines."
   ]
  },
  {
   "cell_type": "code",
   "execution_count": 7,
   "metadata": {},
   "outputs": [
    {
     "name": "stdout",
     "output_type": "stream",
     "text": [
      "Wolfire/Kaufman 2006 constant density models, Z=1.0\n",
      "There are 5 ratios in the Wolfire/Kaufman 2006 constant density models, Z=1.0 ModelSet for the lines ['CII_158', 'OI_145', 'FIR', 'CI_609', 'CO_65']:\n",
      "['CII_158/CI_609', 'OI_145/CII_158', 'OI_145+CII_158/FIR', 'CI_609/FIR', 'CI_609/CO_65']\n",
      "('CII_158/CI_609', 'wolfirekaufman/version2006/constant_density/z=1/ciici609web.fits')\n",
      "('OI_145/CII_158', 'wolfirekaufman/version2006/constant_density/z=1/o145ciiweb.fits')\n",
      "('OI_145+CII_158/FIR', 'wolfirekaufman/version2006/constant_density/z=1/firoi145web.fits')\n",
      "('CI_609/FIR', 'wolfirekaufman/version2006/constant_density/z=1/ci609firweb.fits')\n",
      "('CI_609/CO_65', 'wolfirekaufman/version2006/constant_density/z=1/cico65web.fits')\n"
     ]
    }
   ],
   "source": [
    "t = ModelSet(\"wk2006\",z=1)\n",
    "print(t.description)\n",
    "\n",
    "mylines =[\"CII_158\",\"OI_145\",\"FIR\",\"CI_609\",\"CO_65\"]\n",
    "print(\"There are %d ratios in the %s ModelSet for the lines %s:\"%(t.ratiocount(mylines),t.description,mylines))\n",
    "print(t.model_ratios(mylines))\n",
    "\n",
    "# If you want to see the actual FITS file names\n",
    "for p in t.find_files(mylines):\n",
    "    print(p)"
   ]
  },
  {
   "cell_type": "markdown",
   "metadata": {},
   "source": [
    "### How to access a single model\n",
    "This example returns the model for CII 158 micron/CO(4-3) intensity ratio. The access key is the tag in the `ratio label` in the supported ratios table above.  The model is returned as a `pdrtpy.measurement.Measurement`"
   ]
  },
  {
   "cell_type": "code",
   "execution_count": 8,
   "metadata": {},
   "outputs": [
    {
     "name": "stdout",
     "output_type": "stream",
     "text": [
      "CI_609/CO_43 0.0019551122 3577.9814\n"
     ]
    }
   ],
   "source": [
    "cico = t.get_model(\"CI_609/CO_43\")\n",
    "print(cico.id,cico.data.min(),cico.data.max())"
   ]
  },
  {
   "cell_type": "markdown",
   "metadata": {},
   "source": [
    "### How to access multiple models\n",
    "Suppose you want to find all the models that use some combination of CO(J=1-0), CII 158 micron, and OI 145 micron. This example gets both intensity and ratio models, though you can specify `model_type='intensity'` or `model_type='ratio'` to get one or the other.  The models are returns as a dictionary with the keys set to the model IDs."
   ]
  },
  {
   "cell_type": "code",
   "execution_count": 9,
   "metadata": {},
   "outputs": [],
   "source": [
    "mods = t.get_models([\"CII_158\",\"OI_145\", \"CO_10\"],model_type='both')"
   ]
  },
  {
   "cell_type": "markdown",
   "metadata": {},
   "source": [
    "#### The returned models are three intensity models and two ratio models"
   ]
  },
  {
   "cell_type": "code",
   "execution_count": 10,
   "metadata": {},
   "outputs": [
    {
     "data": {
      "text/plain": [
       "dict_keys(['OI_145', 'CII_158', 'CO_10', 'CII_158/CO_10', 'OI_145/CII_158'])"
      ]
     },
     "execution_count": 10,
     "metadata": {},
     "output_type": "execute_result"
    }
   ],
   "source": [
    "mods.keys()"
   ]
  },
  {
   "cell_type": "code",
   "execution_count": 11,
   "metadata": {},
   "outputs": [
    {
     "name": "stdout",
     "output_type": "stream",
     "text": [
      "11072.426\n"
     ]
    }
   ],
   "source": [
    "# average value of one of the models\n",
    "print(mods['CII_158/CO_10'].data.mean())"
   ]
  }
 ],
 "metadata": {
  "kernelspec": {
   "display_name": "Python 3",
   "language": "python",
   "name": "python3"
  },
  "language_info": {
   "codemirror_mode": {
    "name": "ipython",
    "version": 3
   },
   "file_extension": ".py",
   "mimetype": "text/x-python",
   "name": "python",
   "nbconvert_exporter": "python",
   "pygments_lexer": "ipython3",
   "version": "3.7.4"
  }
 },
 "nbformat": 4,
 "nbformat_minor": 4
}
