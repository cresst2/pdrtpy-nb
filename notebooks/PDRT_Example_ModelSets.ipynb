{
 "cells": [
  {
   "cell_type": "markdown",
   "metadata": {},
   "source": [
    "## *PhotoDissociation Region Toolbox Notebooks*\n",
    "---------------------------------------------------------------\n",
    "\n",
    "# Example 2: Introduction to ModelSets\n",
    "\n",
    "PDRT supports a variety of PDR models to be used to fit your data.  The current default are the Wolfire/Kaufman 2006 models,\n",
    "which have both constant extinction and constant thermal pressure versions, for metallicities z=1 and z=3 (limited spectral lines). Models are stored as ratios of intensities as a function of radiation field $G_0$ and H$_2$ volume density $n$. We expect to update these soon with new physics and a wider range of lines and metallicities.  Any PDR models\n",
    "can be used if they are stored in the [correct FITS format](https://docs.google.com/document/d/1hPSUip5RK6nPmqrL8iw3qkX69DVLBv0sAuqac18pLT8/edit?usp=sharing).  We are currently working with Marcus Rollig to import the KosmaTau models.\n",
    " "
   ]
  },
  {
   "cell_type": "code",
   "execution_count": 1,
   "metadata": {},
   "outputs": [],
   "source": [
    " from pdrtpy.modelset import ModelSet"
   ]
  },
  {
   "cell_type": "markdown",
   "metadata": {},
   "source": [
    "### list() describes the models available.  Note kosmatau and wk2020 are placeholders for now."
   ]
  },
  {
   "cell_type": "code",
   "execution_count": 2,
   "metadata": {
    "scrolled": true
   },
   "outputs": [
    {
     "name": "stdout",
     "output_type": "stream",
     "text": [
      "   name   version  z                                 description                                \n",
      "--------- ------- --- --------------------------------------------------------------------------\n",
      "wk2006    2006    1.0 Wolfire/Kaufman 2006 constant extinction models                           \n",
      "wk2006    2006    3.0 Wolfire/Kaufman 2006 constant extinction models                           \n",
      "wk2006cpt 2006    1.0 Wolfire/Kaufman 2006 constant thermal pressure models                     \n",
      "wk2020    2020    1.0 Wolfire/Kaufman 2020 constant extinction models                           \n",
      "smc       2006    0.1 Wolfire/Kaufman 2006 constant extinction models for Small Magellanic Cloud\n",
      "kosmatau  X       1.0 KOSMA Tau models, Z=1                                                     \n"
     ]
    }
   ],
   "source": [
    "ModelSet.list()\n",
    "m = ModelSet(\"wk2006cpt\",z=1)"
   ]
  },
  {
   "cell_type": "markdown",
   "metadata": {},
   "source": [
    "### Show the model ratios that are available in this ModelSet\n",
    "supported_ratios is an astropy Table, invoke *show_in_notebook()* to see all the rows. "
   ]
  },
  {
   "cell_type": "code",
   "execution_count": 23,
   "metadata": {},
   "outputs": [
    {
     "data": {
      "text/html": [
       "<i>Table length=50</i>\n",
       "<table id=\"table140436517518160-965832\" class=\"table-striped table-bordered table-condensed\">\n",
       "<thead><tr><th>idx</th><th>title</th><th>ratio label</th></tr></thead>\n",
       "<tr><td>0</td><td>[O I] 145 $\\mu$m / [O I] 63 $\\mu$m</td><td>OI_145/OI_63</td></tr>\n",
       "<tr><td>1</td><td>[O I] 145 $\\mu$m / [C II] 158 $\\mu$m</td><td>OI_145/CII_158</td></tr>\n",
       "<tr><td>2</td><td>[O I] 63 $\\mu$m / [C II] 158 $\\mu$m</td><td>OI_63/CII_158</td></tr>\n",
       "<tr><td>3</td><td>[C II] 158 $\\mu$m / [C I] 609 $\\mu$m</td><td>CII_158/CI_609</td></tr>\n",
       "<tr><td>4</td><td>[C I] 370 $\\mu$m / [C I] 609 $\\mu$m</td><td>CI_370/CI_609</td></tr>\n",
       "<tr><td>5</td><td>[C II] 158 $\\mu$m / CO(J=1-0)</td><td>CII_158/CO_10</td></tr>\n",
       "<tr><td>6</td><td>[C I] 609 $\\mu$m / CO(J=1-0)</td><td>CI_609/CO_10</td></tr>\n",
       "<tr><td>7</td><td>[C I] 609 $\\mu$m / CO(J=2-1)</td><td>CI_609/CO_21</td></tr>\n",
       "<tr><td>8</td><td>[C I] 609 $\\mu$m / CO(J=3-2)</td><td>CI_609/CO_32</td></tr>\n",
       "<tr><td>9</td><td>[C I] 609 $\\mu$m / CO(J=4-3)</td><td>CI_609/CO_43</td></tr>\n",
       "<tr><td>10</td><td>[C I] 609 $\\mu$m / CO(J=5-4)</td><td>CI_609/CO_54</td></tr>\n",
       "<tr><td>11</td><td>[C I] 609 $\\mu$m / CO(J=6-5)</td><td>CI_609/CO_65</td></tr>\n",
       "<tr><td>12</td><td>CO(J=2-1) / CO(J=1-0)</td><td>CO_21/CO_10</td></tr>\n",
       "<tr><td>13</td><td>CO(J=3-2) / CO(J=1-0)</td><td>CO_32/CO_10</td></tr>\n",
       "<tr><td>14</td><td>CO(J=3-2) / CO(J=2-1)</td><td>CO_32/CO_21</td></tr>\n",
       "<tr><td>15</td><td>CO(J=4-3) / CO(J=2-1)</td><td>CO_43/CO_21</td></tr>\n",
       "<tr><td>16</td><td>CO(J=6-5) / CO(J=1-0)</td><td>CO_65/CO_10</td></tr>\n",
       "<tr><td>17</td><td>CO(J=6-5) / CO(J=2-1)</td><td>CO_65/CO_21</td></tr>\n",
       "<tr><td>18</td><td>CO(J=6-5) / CO(J=5-4)</td><td>CO_65/CO_54</td></tr>\n",
       "<tr><td>19</td><td>CO(J=7-6) / CO(J=1-0)</td><td>CO_76/CO_10</td></tr>\n",
       "<tr><td>20</td><td>CO(J=7-6) / CO(J=2-1)</td><td>CO_76/CO_21</td></tr>\n",
       "<tr><td>21</td><td>CO(J=7-6) / CO(J=4-3)</td><td>CO_76/CO_43</td></tr>\n",
       "<tr><td>22</td><td>CO(J=7-6) / CO(J=5-4)</td><td>CO_76/CO_54</td></tr>\n",
       "<tr><td>23</td><td>CO(J=7-6) / CO(J=6-5)</td><td>CO_76/CO_65</td></tr>\n",
       "<tr><td>24</td><td>CO(J=8-7) / CO(J=5-4)</td><td>CO_87/CO_54</td></tr>\n",
       "<tr><td>25</td><td>CO(J=8-7) / CO(J=6-5)</td><td>CO_87/CO_65</td></tr>\n",
       "<tr><td>26</td><td>CO(J=9-8) / CO(J=5-4)</td><td>CO_98/CO_54</td></tr>\n",
       "<tr><td>27</td><td>CO(J=9-8) / CO(J=6-5)</td><td>CO_98/CO_65</td></tr>\n",
       "<tr><td>28</td><td>CO(J=10-9) / CO(J=5-4)</td><td>CO_109/CO_54</td></tr>\n",
       "<tr><td>29</td><td>CO(J=10-9) / CO(J=6-5)</td><td>CO_109/CO_65</td></tr>\n",
       "<tr><td>30</td><td>CO(J=10-9) / CO(J=7-6)</td><td>CO_109/CO_76</td></tr>\n",
       "<tr><td>31</td><td>CO(J=11-10) / CO(J=5-4)</td><td>CO_1110/CO_54</td></tr>\n",
       "<tr><td>32</td><td>CO(J=11-10) / CO(J=6-5)</td><td>CO_1110/CO_65</td></tr>\n",
       "<tr><td>33</td><td>CO(J=12-11) / CO(J=5-4)</td><td>CO_1211/CO_54</td></tr>\n",
       "<tr><td>34</td><td>CO(J=12-11) / CO(J=6-5)</td><td>CO_1211/CO_65</td></tr>\n",
       "<tr><td>35</td><td>CO(J=13-12) / CO(J=5-4)</td><td>CO_1312/CO_54</td></tr>\n",
       "<tr><td>36</td><td>CO(J=13-12) / CO(J=6-5)</td><td>CO_1312/CO_65</td></tr>\n",
       "<tr><td>37</td><td>CO(J=14-13) / CO(J=5-4)</td><td>CO_1413/CO_54</td></tr>\n",
       "<tr><td>38</td><td>CO(J=14-13) / CO(J=6-5)</td><td>CO_1413/CO_65</td></tr>\n",
       "<tr><td>39</td><td>[C I] 609 $\\mu$m / I$_{FIR}$</td><td>CI_609/FIR</td></tr>\n",
       "<tr><td>40</td><td>([O I] 63 $\\mu$m + [C II] 158 $\\mu$m) / I$_{FIR}$</td><td>OI_63+CII_158/FIR</td></tr>\n",
       "<tr><td>41</td><td>([O I] 145 $\\mu$m + [C II] 158 $\\mu$m) / I$_{FIR}$</td><td>OI_145+CII_158/FIR</td></tr>\n",
       "<tr><td>42</td><td>[S III] 35 $\\mu$m / [Fe II] 25 $\\mu$m</td><td>SIII/FEII</td></tr>\n",
       "<tr><td>43</td><td>H$_2$0-0S(1) 17 $\\mu$m / H$_2$0-0S(0) 28.2$ \\mu$m</td><td>H200S1/H200S0</td></tr>\n",
       "<tr><td>44</td><td>H$_2$0-0S(2) 12.3 $\\mu$m / H$_2$0-0S(0) 28.2$ \\mu$m</td><td>H200S2/H200S0</td></tr>\n",
       "<tr><td>45</td><td>H$_2$0-0S(2) 12.3 $\\mu$m / H$_2$0-0S(1) 17$ \\mu$m</td><td>H200S2/H200S1</td></tr>\n",
       "<tr><td>46</td><td>H$_2$0-0S(3) 9.7 $\\mu$m / H$_2$0-0S(1) 17$ \\mu$m</td><td>H200S3/H200S1</td></tr>\n",
       "<tr><td>47</td><td>H$_2$0-0S(1) 17 $\\mu$m / [S III] 35 $\\mu$m</td><td>H200S1/SIII</td></tr>\n",
       "<tr><td>48</td><td>H$_2$0-0S(2) 12.3 $\\mu$m / [S III] 35 $\\mu$m</td><td>H200S2/SIII</td></tr>\n",
       "<tr><td>49</td><td>H$_2$6-5Q(1) 1.6 $\\mu$m / H$_2$1-0S(1) 2.12 $\\mu$m</td><td>H264Q11/H210S1</td></tr>\n",
       "</table><style>table.dataTable {clear: both; width: auto !important; margin: 0 !important;}\n",
       ".dataTables_info, .dataTables_length, .dataTables_filter, .dataTables_paginate{\n",
       "display: inline-block; margin-right: 1em; }\n",
       ".paginate_button { margin-right: 5px; }\n",
       "</style>\n",
       "<script>\n",
       "\n",
       "var astropy_sort_num = function(a, b) {\n",
       "    var a_num = parseFloat(a);\n",
       "    var b_num = parseFloat(b);\n",
       "\n",
       "    if (isNaN(a_num) && isNaN(b_num))\n",
       "        return ((a < b) ? -1 : ((a > b) ? 1 : 0));\n",
       "    else if (!isNaN(a_num) && !isNaN(b_num))\n",
       "        return ((a_num < b_num) ? -1 : ((a_num > b_num) ? 1 : 0));\n",
       "    else\n",
       "        return isNaN(a_num) ? -1 : 1;\n",
       "}\n",
       "\n",
       "require.config({paths: {\n",
       "    datatables: 'https://cdn.datatables.net/1.10.12/js/jquery.dataTables.min'\n",
       "}});\n",
       "require([\"datatables\"], function(){\n",
       "    console.log(\"$('#table140436517518160-965832').dataTable()\");\n",
       "    \n",
       "jQuery.extend( jQuery.fn.dataTableExt.oSort, {\n",
       "    \"optionalnum-asc\": astropy_sort_num,\n",
       "    \"optionalnum-desc\": function (a,b) { return -astropy_sort_num(a, b); }\n",
       "});\n",
       "\n",
       "    $('#table140436517518160-965832').dataTable({\n",
       "        order: [],\n",
       "        pageLength: 50,\n",
       "        lengthMenu: [[10, 25, 50, 100, 500, 1000, -1], [10, 25, 50, 100, 500, 1000, 'All']],\n",
       "        pagingType: \"full_numbers\",\n",
       "        columnDefs: [{targets: [0], type: \"optionalnum\"}]\n",
       "    });\n",
       "});\n",
       "</script>\n"
      ],
      "text/plain": [
       "<IPython.core.display.HTML object>"
      ]
     },
     "execution_count": 23,
     "metadata": {},
     "output_type": "execute_result"
    }
   ],
   "source": [
    "m.supported_ratios.show_in_notebook()"
   ]
  },
  {
   "cell_type": "markdown",
   "metadata": {},
   "source": [
    "### We have shortcuts for the most common ModelSets. \n",
    "Below is equivalent to ModelSet(\"wk2006\",z=1).  Every model has a one-line description. You can query a ModelSet to find which spectral lines (your observations) are supported and which model ratios it has for your lines."
   ]
  },
  {
   "cell_type": "code",
   "execution_count": 24,
   "metadata": {},
   "outputs": [
    {
     "name": "stdout",
     "output_type": "stream",
     "text": [
      "Wolfire/Kaufman 2006 constant extinction models, Z=1.0\n",
      "['CII_158/CI_609', 'OI_145/CII_158', 'OI_145+CII_158/FIR', 'CI_609/FIR', 'CI_609/CO_65']\n",
      "('CII_158/CI_609', 'wolfirekaufman/version2006/constant_extinction/z=1/ciici609web.fits')\n",
      "('OI_145/CII_158', 'wolfirekaufman/version2006/constant_extinction/z=1/o145ciiweb.fits')\n",
      "('OI_145+CII_158/FIR', 'wolfirekaufman/version2006/constant_extinction/z=1/firoi145web.fits')\n",
      "('CI_609/FIR', 'wolfirekaufman/version2006/constant_extinction/z=1/ci609firweb.fits')\n",
      "('CI_609/CO_65', 'wolfirekaufman/version2006/constant_extinction/z=1/cico65web.fits')\n"
     ]
    }
   ],
   "source": [
    "t = ModelSet.WolfireKaufman()\n",
    "print(t.description)\n",
    "\n",
    "mylines =[\"CII_158\",\"OI_145\",\"FIR\",\"CI_609\",\"CO_65\"]\n",
    "print(t.model_ratios(mylines))\n",
    "\n",
    "# If you want to see the actual FITS file names\n",
    "for p in t.find_files(mylines):\n",
    "    print(p)"
   ]
  },
  {
   "cell_type": "code",
   "execution_count": null,
   "metadata": {},
   "outputs": [],
   "source": []
  }
 ],
 "metadata": {
  "kernelspec": {
   "display_name": "Python 3",
   "language": "python",
   "name": "python3"
  },
  "language_info": {
   "codemirror_mode": {
    "name": "ipython",
    "version": 3
   },
   "file_extension": ".py",
   "mimetype": "text/x-python",
   "name": "python",
   "nbconvert_exporter": "python",
   "pygments_lexer": "ipython3",
   "version": "3.7.4"
  }
 },
 "nbformat": 4,
 "nbformat_minor": 2
}
