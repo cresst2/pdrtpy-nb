{
 "cells": [
  {
   "cell_type": "markdown",
   "metadata": {},
   "source": [
    "## *PhotoDissociation Region Toolbox Notebooks*\n",
    "-------------------------------------------------------------\n",
    "\n",
    "# Example 1: Working With Measurements\n",
    "\n",
    "This Example shows how to bring your spectral line and far-infrarend (FIR) data into the PDR Toolbox.\n",
    "\n",
    "First import the relevant modules.  "
   ]
  },
  {
   "cell_type": "code",
   "execution_count": 1,
   "metadata": {},
   "outputs": [
    {
     "name": "stderr",
     "output_type": "stream",
     "text": [
      "/home/mpound/anaconda3/lib/python3.7/site-packages/astropy/table/column.py:984: FutureWarning: elementwise comparison failed; returning scalar instead, but in the future will perform elementwise comparison\n",
      "  result = getattr(super(), op)(other)\n"
     ]
    }
   ],
   "source": [
    "from pdrtpy.measurement import Measurement\n",
    "from pdrtpy.modelset import ModelSet\n",
    "import pdrtpy.pdrutils as utils\n",
    "from astropy.nddata import StdDevUncertainty\n",
    "import astropy.units as u\n",
    "import numpy as np"
   ]
  },
  {
   "cell_type": "markdown",
   "metadata": {},
   "source": [
    "## Measurements\n",
    "To use PDR Toolbox, you need to create `Measurements` from your observations. A Measurement consists of a value and an error.  These can be single-valued or an array of values.  In the typical case of an image, the Measurement is a representation of a FITS file with two HDUs, the first HDU is the spatial map of intensity and the 2nd HDU is the spatial map of the errors.  It is based on [astropy's CCDData](https://docs.astropy.org/en/stable/api/astropy.nddata.CCDData.html) if you are familiar with that. Typical sub-millimeter maps we get from telescopes don't have the error plane, but PDRT makes it easy for you to create one if you know the magnitude of the error. Your FITS images can be in intensity units (equivalent to erg s$^{-1}$ cm$^{-2}$ sr$^{-1}$) or can be in K km/s.  PDRT will do appropriate conversion as necessary when it uses your images (original Measurement remains unchanged)."
   ]
  },
  {
   "cell_type": "markdown",
   "metadata": {},
   "source": [
    "### Measurement Identifiers \n",
    "When you create a Measurement you have to say what it is a measurement of, i.e., what spectral line it is.  This is done using the string identifier.  The identifier (ID) should be one of the lines supported by the PDR Toolbox`ModelSets`.  The default ModelSet in the PDR Toolbox is the Wolfire/Kaufman 2006 constant extinction models."
   ]
  },
  {
   "cell_type": "code",
   "execution_count": 2,
   "metadata": {},
   "outputs": [
    {
     "data": {
      "text/html": [
       "<i>Table length=28</i>\n",
       "<table id=\"table140318448509520\" class=\"table-striped table-bordered table-condensed\">\n",
       "<thead><tr><th>canonical name</th><th>ID</th></tr></thead>\n",
       "<thead><tr><th>str51</th><th>str14</th></tr></thead>\n",
       "<tr><td>[C II] 158 $\\mu$m</td><td>CII_158</td></tr>\n",
       "<tr><td>[C I] 370 $\\mu$m</td><td>CI_370</td></tr>\n",
       "<tr><td>[C I] 609 $\\mu$m</td><td>CI_609</td></tr>\n",
       "<tr><td>CO(J=1-0)</td><td>CO_10</td></tr>\n",
       "<tr><td>CO(J=10-9)</td><td>CO_109</td></tr>\n",
       "<tr><td>CO(J=11-10)</td><td>CO_1110</td></tr>\n",
       "<tr><td>CO(J=12-11)</td><td>CO_1211</td></tr>\n",
       "<tr><td>CO(J=13-12)</td><td>CO_1312</td></tr>\n",
       "<tr><td>CO(J=14-13)</td><td>CO_1413</td></tr>\n",
       "<tr><td>CO(J=2-1)</td><td>CO_21</td></tr>\n",
       "<tr><td>...</td><td>...</td></tr>\n",
       "<tr><td>I$_{FIR}$</td><td>FIR</td></tr>\n",
       "<tr><td>H$_2$0-0S(0) 28.2$ \\mu$m</td><td>H200S0</td></tr>\n",
       "<tr><td>H$_2$0-0S(1) 17 $\\mu$m</td><td>H200S1</td></tr>\n",
       "<tr><td>H$_2$0-0S(2) 12.3 $\\mu$m</td><td>H200S2</td></tr>\n",
       "<tr><td>H$_2$0-0S(3) 9.7 $\\mu$m</td><td>H200S3</td></tr>\n",
       "<tr><td>H$_2$1-0S(1) 2.12 $\\mu$m</td><td>H210S1</td></tr>\n",
       "<tr><td>H$_2$6-5Q(1) 1.6 $\\mu$m</td><td>H264Q1</td></tr>\n",
       "<tr><td>[O I] 145 $\\mu$m</td><td>OI_145</td></tr>\n",
       "<tr><td>[O I] 63 $\\mu$m</td><td>OI_63</td></tr>\n",
       "<tr><td>[S III] 35 $\\mu$m</td><td>SIII</td></tr>\n",
       "</table>"
      ],
      "text/plain": [
       "<Table length=28>\n",
       "      canonical name         ID  \n",
       "          str51            str14 \n",
       "------------------------- -------\n",
       "       [C II] 158 $\\mu$m  CII_158\n",
       "        [C I] 370 $\\mu$m   CI_370\n",
       "        [C I] 609 $\\mu$m   CI_609\n",
       "                CO(J=1-0)   CO_10\n",
       "              CO(J=10-9)   CO_109\n",
       "             CO(J=11-10)  CO_1110\n",
       "             CO(J=12-11)  CO_1211\n",
       "             CO(J=13-12)  CO_1312\n",
       "             CO(J=14-13)  CO_1413\n",
       "               CO(J=2-1)    CO_21\n",
       "                      ...     ...\n",
       "                I$_{FIR}$     FIR\n",
       " H$_2$0-0S(0) 28.2$ \\mu$m  H200S0\n",
       "  H$_2$0-0S(1) 17 $\\mu$m   H200S1\n",
       "H$_2$0-0S(2) 12.3 $\\mu$m   H200S2\n",
       " H$_2$0-0S(3) 9.7 $\\mu$m   H200S3\n",
       " H$_2$1-0S(1) 2.12 $\\mu$m  H210S1\n",
       " H$_2$6-5Q(1) 1.6 $\\mu$m   H264Q1\n",
       "        [O I] 145 $\\mu$m   OI_145\n",
       "         [O I] 63 $\\mu$m    OI_63\n",
       "       [S III] 35 $\\mu$m     SIII"
      ]
     },
     "execution_count": 2,
     "metadata": {},
     "output_type": "execute_result"
    }
   ],
   "source": [
    "ModelSet.WolfireKaufman().supported_lines"
   ]
  },
  {
   "cell_type": "markdown",
   "metadata": {},
   "source": [
    "## Creating a Measurement based on a single value\n",
    "\n",
    "Suppose you have single-beam observations of [OI] 145 $\\mu$m, [CI] 609 $\\mu$m, CO(J=2-1), and [CII] 158 $\\mu$m lines. You create Measurements for these using the constructor giving it the value, error, line identifier string, and units.   You can add optional beam size (bmaj,bmin,bpa), but note PDRT requires all Measurements have the same beam size before it can perform calculations.  "
   ]
  },
  {
   "cell_type": "code",
   "execution_count": 3,
   "metadata": {},
   "outputs": [
    {
     "name": "stdout",
     "output_type": "stream",
     "text": [
      "30.0 +/- 5.0 erg / (cm2 s sr)\n",
      "converting erg / (cm2 s sr) to W m^-2 sr^-1\n",
      "0.03 +/- 0.005 W / (m2 sr)\n",
      "bmaj (deg): 1.667e-02\n"
     ]
    }
   ],
   "source": [
    "myunit = \"erg s-1 cm-2 sr-1\" # this is the default\n",
    "m1 = Measurement(data=30.,uncertainty = StdDevUncertainty(5.0),identifier=\"OI_145\",unit=myunit)\n",
    "m2 = Measurement(data=10.,uncertainty = StdDevUncertainty(2.0),identifier=\"CI_609\",unit=myunit)\n",
    "m3 = Measurement(data=10.,uncertainty = StdDevUncertainty(1.5),identifier=\"CO_21\",unit=myunit)\n",
    "m4 = Measurement(data=100.,uncertainty = StdDevUncertainty(10.),identifier=\"CII_158\",unit=myunit,bmaj=60*u.arcsec,bmin=60*u.arcsec,bpa=0*u.degree)\n",
    "print(m1)\n",
    "# You can convert any Measurement to equivalent units \n",
    "w = utils.to(\"W m^-2 sr^-1\",m1)\n",
    "print(w)\n",
    "print(\"bmaj (deg): %.3e\"%m4.header[\"BMAJ\"])"
   ]
  },
  {
   "cell_type": "markdown",
   "metadata": {},
   "source": [
    "## Creating Measurements from a FITS images\n",
    "\n",
    "Typical sub-millimeter maps we get from telescopes don't have the error plane, but PDRT makes it easy for you to create one if you know the magnitude of the error or if you have a separate error map. Your FITS images can be in intensity units (equivalent to erg s$^{-1}$ cm$^{-2}$ sr$^{-1}$) or can be in K km s$^{-1}$.  PDRT will do appropriate conversion as necessary when it reads in your images.   Here is an example using the N22 data from [Jameson et al. 2018](https://ui.adsabs.harvard.edu/abs/2018ApJ...853..111J/abstract). These data consist of separate flux and error maps for [OI] 145 $\\mu$m and [CII] 158 $\\mu$m,  and a flux map of the total far-infrared emission (FIR) which has a 10% error.  The static method `Measurement.make_measurement` will put the flux and error together in a single image with 2 HDUs and write that FITS file to disk.  You then read the image back in via the `read` method."
   ]
  },
  {
   "cell_type": "code",
   "execution_count": 4,
   "metadata": {},
   "outputs": [
    {
     "name": "stderr",
     "output_type": "stream",
     "text": [
      "WARNING: VerifyWarning: Invalid 'BLANK' keyword in header.  The 'BLANK' keyword is only applicable to integer data, and will be ignored in this HDU. [astropy.io.fits.hdu.image]\n",
      "WARNING: UnitsWarning: 'W/m2/sr' contains multiple slashes, which is discouraged by the FITS standard [astropy.units.format.generic]\n"
     ]
    },
    {
     "name": "stdout",
     "output_type": "stream",
     "text": [
      "WCS Transformation\n",
      "\n",
      "This transformation has 2 pixel and 2 world dimensions\n",
      "\n",
      "Array shape (Numpy order): (139, 81)\n",
      "\n",
      "Pixel Dim  Data size  Bounds\n",
      "        0         81  None\n",
      "        1        139  None\n",
      "\n",
      "World Dim  Physical Type  Units\n",
      "        0  pos.eq.ra      deg\n",
      "        1  pos.eq.dec     deg\n",
      "\n",
      "Correlation between pixel and world axes:\n",
      "\n",
      "           Pixel Dim\n",
      "World Dim    0    1\n",
      "        0  yes  yes\n",
      "        1  yes  yes\n",
      "[OI] min 2.48E-07 max 3.33E-09  W / (m2 sr)\n"
     ]
    }
   ],
   "source": [
    "# get the data from the testdata directory\n",
    "cii_flux = utils.get_data(\"n22_cii_flux.fits\")  # [C II] flux\n",
    "cii_err = utils.get_data(\"n22_cii_error.fits\")  # [C II] error\n",
    "oi_flux = utils.get_data(\"n22_oi_flux.fits\")    # [O I] flux \n",
    "oi_err = utils.get_data(\"n22_oi_error.fits\")    # [O I] error\n",
    "FIR_flux = utils.get_data(\"n22_FIR.fits\")       # FIR flux\n",
    "\n",
    "# Output file names\n",
    "cii_combined = \"n22_cii_flux_error.fits\"\n",
    "oi_combined = \"n22_oi_flux_error.fits\"\n",
    "FIR_combined = \"n22_FIR_flux_error.fits\"\n",
    "\n",
    "# create the Measurements and write out the FITS files.\n",
    "# Set overwrite=True to allow multiple runs of this notebook.\n",
    "Measurement.make_measurement(cii_flux, cii_err, cii_combined,overwrite=True)\n",
    "Measurement.make_measurement(oi_flux, oi_err, oi_combined,overwrite=True)\n",
    "# Assign a 10% error in FIR flux\n",
    "Measurement.make_measurement(FIR_flux, error='10%', outfile=FIR_combined,overwrite=True)\n",
    "\n",
    "# Read in the FITS files to Measurements\n",
    "cii_meas = Measurement.read(cii_combined, identifier=\"CII_158\")\n",
    "FIR_meas = Measurement.read(FIR_combined, identifier=\"FIR\")\n",
    "oi_meas = Measurement.read(oi_combined, identifier=\"OI_63\")\n",
    "\n",
    "print(oi_meas.wcs)\n",
    "print(\"[OI] min %.2E max %.2E  %s\"%(np.nanmax(oi_meas.data), np.nanmin(oi_meas.data),oi_meas.unit))"
   ]
  },
  {
   "cell_type": "markdown",
   "metadata": {},
   "source": [
    "## The more you have in the FITS header the less you have to specify\n",
    "\n",
    "Here we read in the CO(J=1-0) integrated intensity map that has the units, error, and beam parameters specified by the FITS keywords BUNIT, RMS, BMAJ, BMIN, BPA respectively.  These are old Bell Labs 7-m data of the Draco High Latitude Cloud (MBM 41-44).\n"
   ]
  },
  {
   "cell_type": "code",
   "execution_count": 5,
   "metadata": {
    "scrolled": true
   },
   "outputs": [
    {
     "name": "stdout",
     "output_type": "stream",
     "text": [
      "Found RMS in header: 3.00E-01 (1, 163, 138)\n",
      "K km / s\n"
     ]
    },
    {
     "name": "stderr",
     "output_type": "stream",
     "text": [
      "WARNING: FITSFixedWarning: 'spcfix' made the change 'Changed CTYPE3 from 'VELO-LSR' to 'VOPT', and SPECSYS to 'LSRK' (VELREF=0)'. [astropy.wcs.wcs]\n"
     ]
    },
    {
     "data": {
      "text/plain": [
       "SIMPLE  =                    T /                                                \n",
       "BITPIX  =                  -32                                                  \n",
       "NAXIS   =                    3 /                                                \n",
       "NAXIS1  =                  138 /                                                \n",
       "NAXIS2  =                  163 /                                                \n",
       "NAXIS3  =                    1 /                                                \n",
       "EXTEND  =                    T                                                  \n",
       "CROTA1  =           0.00000000 /                                                \n",
       "CROTA2  =           0.00000000 /                                                \n",
       "CROTA3  =           0.00000000 /                                                \n",
       "EPOCH   =           1950.00000 /                                                \n",
       "BUNIT   = 'K km/s  '           /                                                \n",
       "RMS     =           0.30000000 /                                                \n",
       "DATAMIN =          -1.10995162 /                                                \n",
       "DATAMAX =           16.2843571 /                                                \n",
       "DATE    = '01/03/96'           /                                                \n",
       "BMAJ    =  0.02777777777777778                                                  \n",
       "BMIN    =  0.02777777777777778                                                  \n",
       "BPA     =                    0                                                  \n",
       "HISTORY COMB TITLE 12co  T*dV -28.0000,-15.0000                                 \n",
       "HISTORY COMB PARAM ir:1.2 ci: gnom:                                             \n",
       "HISTORY COMB IMAGEOP im rs:1.11,0                                               \n",
       "                                                                                "
      ]
     },
     "execution_count": 5,
     "metadata": {},
     "output_type": "execute_result"
    }
   ],
   "source": [
    "outfile=\"draco_CO_measurement.fits\"\n",
    "infile=utils.get_data(\"draco.ico.fits\")\n",
    "Measurement.make_measurement(infile,error='rms',outfile=outfile)\n",
    "ico = Measurement.read(outfile,identifier=\"CO_10\")\n",
    "print(ico.unit)\n",
    "ico.header"
   ]
  }
 ],
 "metadata": {
  "kernelspec": {
   "display_name": "Python 3",
   "language": "python",
   "name": "python3"
  },
  "language_info": {
   "codemirror_mode": {
    "name": "ipython",
    "version": 3
   },
   "file_extension": ".py",
   "mimetype": "text/x-python",
   "name": "python",
   "nbconvert_exporter": "python",
   "pygments_lexer": "ipython3",
   "version": "3.7.4"
  }
 },
 "nbformat": 4,
 "nbformat_minor": 2
}
