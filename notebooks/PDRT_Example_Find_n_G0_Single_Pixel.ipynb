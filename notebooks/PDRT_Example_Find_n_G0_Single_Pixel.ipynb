{
 "cells": [
  {
   "cell_type": "markdown",
   "metadata": {},
   "source": [
    "### *PhotoDissociation Region Toolbox Notebooks*\n",
    "-------------------------------------------------------------\n",
    "\n",
    "# Example 3: Determining Radiation Field and Density\n",
    "\n",
    "This example shows use the PDRT Toolbox to determine the PDR radiation field $G_0$ and hydrogen nucleus volume density $n$ from your spectral line and far-infrared (FIR) data into the PDR Toolbox.  The case is for single-pixel observations (as in the classic PDRT website).   If you have not gone through the Measurements and ModelSets examples, you should do them first.\n"
   ]
  },
  {
   "cell_type": "markdown",
   "metadata": {},
   "source": [
    "### 3a. Determining Radiation Field and Density from single value Measurements\n",
    "Following the example on how to use Measurements, create Measurements for your observations."
   ]
  },
  {
   "cell_type": "code",
   "execution_count": null,
   "metadata": {
    "scrolled": true
   },
   "outputs": [],
   "source": [
    "from pdrtpy.measurement import Measurement\n",
    "from pdrtpy.modelset import ModelSet\n",
    "import pdrtpy.pdrutils as utils\n",
    "from pdrtpy.tool.lineratiofit import LineRatioFit\n",
    "from pdrtpy.plot.lineratioplot import LineRatioPlot\n",
    "from astropy.nddata import StdDevUncertainty\n",
    "import astropy.units as u\n",
    "import numpy as np"
   ]
  },
  {
   "cell_type": "code",
   "execution_count": null,
   "metadata": {},
   "outputs": [],
   "source": [
    "myunit = \"erg s-1 cm-2 sr-1\" # my default unit for value and error\n",
    "m1 = Measurement(data=30.,uncertainty = StdDevUncertainty(5.0),identifier=\"OI_145\",unit=myunit)\n",
    "m2 = Measurement(data=11.,uncertainty = StdDevUncertainty(2.5),identifier=\"CI_609\",unit=myunit)\n",
    "m3 = Measurement(data=1.3E9,uncertainty = StdDevUncertainty(2E8),identifier=\"CO_21\",restfreq=\"230.538 GHz\", unit=\"K km/s\")\n",
    "m4 = Measurement(data=100.,uncertainty = StdDevUncertainty(10.),identifier=\"CII_158\",unit=myunit)\n",
    "a = [m1,m2,m3,m4]"
   ]
  },
  {
   "cell_type": "markdown",
   "metadata": {},
   "source": [
    "Now create the fitting tool, feeding it your observations.   It will use the default  Wolfire/Kauffman ModelSet."
   ]
  },
  {
   "cell_type": "code",
   "execution_count": null,
   "metadata": {},
   "outputs": [],
   "source": [
    "p = LineRatioFit(measurements=a)"
   ]
  },
  {
   "cell_type": "markdown",
   "metadata": {},
   "source": [
    "### Now run it! \n",
    "Note the K km s$^{-1}$ get converted on the fly to erg s$^{-1}$ cm$^{-2}$ sr$^{-1}$.  You will get warned that there are no beam parameters in the Measurements."
   ]
  },
  {
   "cell_type": "code",
   "execution_count": null,
   "metadata": {
    "scrolled": false
   },
   "outputs": [],
   "source": [
    "p.run()"
   ]
  },
  {
   "cell_type": "markdown",
   "metadata": {},
   "source": [
    "### The results are stored in member variables as Measurements.\n",
    "`pdrutils` has methods to convert between the common radiation field measures. Note: the errors in $n$ and $G_0$ have been set to `NaN` because we don't have a good way to calculate them yet."
   ]
  },
  {
   "cell_type": "code",
   "execution_count": null,
   "metadata": {
    "scrolled": false
   },
   "outputs": [],
   "source": [
    "print(\"n=\",p.density)\n",
    "print(\"G0=\",p.radiation_field)\n",
    "# example conversions\n",
    "print(utils.toDraine(p.radiation_field))\n",
    "print(utils.tocgs(p.radiation_field))\n",
    "print(utils.toMathis(p.radiation_field))"
   ]
  },
  {
   "cell_type": "markdown",
   "metadata": {},
   "source": [
    "## Now on to plotting!\n",
    "Create a plotter from the tool.  For single pixel measurements, you can plot the observed ratios in (G0,n) space like the classic PDRT.  "
   ]
  },
  {
   "cell_type": "code",
   "execution_count": null,
   "metadata": {},
   "outputs": [],
   "source": [
    "plot = LineRatioPlot(p)"
   ]
  },
  {
   "cell_type": "code",
   "execution_count": null,
   "metadata": {},
   "outputs": [],
   "source": [
    "# since you only have one pixel, asking to plot density, radiation field, or both just prints\n",
    "plot.show_both()"
   ]
  },
  {
   "cell_type": "markdown",
   "metadata": {},
   "source": [
    "### LineRatioPlot has many options for how plots are displayed.\n",
    "You can vary colormap, contours, units, etc.  For an exhaustive list, see the documentation web page or type `help(LineRatioPlot)`.\n",
    "    "
   ]
  },
  {
   "cell_type": "markdown",
   "metadata": {},
   "source": [
    "#### plot your observed ratios with errors on the matching models "
   ]
  },
  {
   "cell_type": "code",
   "execution_count": null,
   "metadata": {
    "scrolled": true
   },
   "outputs": [],
   "source": [
    "plot.ratios_on_models()"
   ]
  },
  {
   "cell_type": "markdown",
   "metadata": {},
   "source": [
    "#### Plot the reduced chisquare in (n,G0) space, using an alternative colormap and label the contours"
   ]
  },
  {
   "cell_type": "code",
   "execution_count": null,
   "metadata": {},
   "outputs": [],
   "source": [
    "plot.reduced_chisq(cmap='viridis',label=True)"
   ]
  },
  {
   "cell_type": "markdown",
   "metadata": {},
   "source": [
    "#### How about just contours? We need to specify color since default contour color is white"
   ]
  },
  {
   "cell_type": "code",
   "execution_count": null,
   "metadata": {},
   "outputs": [],
   "source": [
    "plot.reduced_chisq(image=False,colors='k')"
   ]
  },
  {
   "cell_type": "markdown",
   "metadata": {},
   "source": [
    "#### Overlay all the ratios and errors in model space."
   ]
  },
  {
   "cell_type": "code",
   "execution_count": null,
   "metadata": {
    "scrolled": true
   },
   "outputs": [],
   "source": [
    "plot.overlay_all_ratios()"
   ]
  },
  {
   "cell_type": "code",
   "execution_count": null,
   "metadata": {},
   "outputs": [],
   "source": [
    "plot.modelratio(\"CII_158/CI_609\")"
   ]
  },
  {
   "cell_type": "code",
   "execution_count": null,
   "metadata": {},
   "outputs": [],
   "source": [
    "plot.observedratio(\"CII_158/CI_609\")"
   ]
  }
 ],
 "metadata": {
  "kernelspec": {
   "display_name": "Python 3",
   "language": "python",
   "name": "python3"
  },
  "language_info": {
   "codemirror_mode": {
    "name": "ipython",
    "version": 3
   },
   "file_extension": ".py",
   "mimetype": "text/x-python",
   "name": "python",
   "nbconvert_exporter": "python",
   "pygments_lexer": "ipython3",
   "version": "3.7.4"
  }
 },
 "nbformat": 4,
 "nbformat_minor": 2
}
